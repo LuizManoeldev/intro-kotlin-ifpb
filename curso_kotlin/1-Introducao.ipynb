{
 "cells": [
  {
   "cell_type": "markdown",
   "metadata": {
    "collapsed": false
   },
   "source": [
    "![Logo do Kotlin](https://upload.wikimedia.org/wikipedia/commons/thumb/d/d4/Kotlin_logo.svg/2560px-Kotlin_logo.svg.png)\n",
    "# Introduçao a Kotlin\n",
    "Nessa primeira parte, iremos mostrar o básico da linguagem Kotlin, como variáveis, operadores, estruturas de controle, funções, classes e objetos. Em seguida, entraremos em detalhes sobre cada um dos itens citados nessa seção.\n",
    "Use este material não apenas como um guia de estudo, mas também para praticar, já que cada código abaixo pode ser alterado e executado para ver os resultados. \n",
    "## O que é Kotlin?\n",
    "Kotlin é uma linguagem de programação moderna, orientada a objetos e funcional, que roda na máquina virtual Java (JVM). Ela foi criada pela JetBrains, a mesma empresa que desenvolve a IDE IntelliJ IDEA, e foi lançada em 2011. Em 2017, a Google anunciou que Kotlin seria uma das linguagens suportadas para o desenvolvimento de aplicativos Android, e desde então, o uso de Kotlin para desenvolvimento Android tem crescido rapidamente. Em 2019, a Google anunciou que Kotlin seria a linguagem preferencial para desenvolvimento Android. \n",
    "\n",
    "[Link para a documentação oficial do Kotlin](https://kotlinlang.org/docs/home.html)\n",
    "[Link para programar em Kotlin na web](https://play.kotlinlang.org/#eyJ2ZXJzaW9uIjoiMS45LjIyIiwicGxhdGZvcm0iOiJqYXZhIiwiYXJncyI6IiIsIm5vbmVNYXJrZXJzIjp0cnVlLCJ0aGVtZSI6ImlkZWEiLCJjb2RlIjoiLyoqXG4gKiBZb3UgY2FuIGVkaXQsIHJ1biwgYW5kIHNoYXJlIHRoaXMgY29kZS5cbiAqIHBsYXkua290bGlubGFuZy5vcmdcbiAqL1xuZnVuIG1haW4oKSB7XG4gICAgcHJpbnRsbihcIkhlbGxvLCB3b3JsZCEhIVwiKVxufSJ9)"
   ]
  },
  {
   "cell_type": "markdown",
   "metadata": {
    "collapsed": false
   },
   "source": [
    "Vamos começar com o mais básico: o famoso hello world, em Kotlin."
   ]
  },
  {
   "cell_type": "code",
   "execution_count": null,
   "metadata": {
    "ExecuteTime": {
     "end_time": "2024-02-23T18:19:01.087864Z",
     "start_time": "2024-02-23T18:19:00.971417Z"
    },
    "collapsed": false
   },
   "outputs": [],
   "source": [
    "fun main() {\n",
    "    println(\"Aloh, World!\")\n",
    "}\n",
    "main()"
   ]
  },
  {
   "cell_type": "markdown",
   "metadata": {
    "collapsed": false
   },
   "source": [
    "Essa é uma função que imprime \"Hello, World!\" na tela. A função main é a função principal do programa, e é onde o programa começa a ser executado. Por isso, além de definir uma função main com a palavra chave **fun**, é necessário chamar essa função para que o programa seja executado. Na linha 2 da função main, temos a chamada da função **println** (similar a System.out.println em Java), que imprime o texto passado na saída padrão (normalmente, a tela). Essa função imprime o texto e pula uma linha. Se quisermos imprimir o texto sem pular uma linha, usamos a função **print**. "
   ]
  },
  {
   "cell_type": "markdown",
   "metadata": {
    "collapsed": false
   },
   "source": [
    "## Variáveis\n",
    "Temos basicamente 4 tipos de \"variáveis\" em Kotlin: **var**, **val**, **const** e **lateinit**.\n",
    "\n",
    "Mas, nesse primeiro momento, vamos focar nas duas primeiras.\n",
    "\n",
    "O **var** é uma variável mutável, ou seja, seu valor pode ser alterado.\n",
    "\n",
    "O **val** é uma variável imutável, ou seja, seu valor não pode ser alterado.\n",
    "\n",
    "Vamos ver um exemplo de cada um:"
   ]
  },
  {
   "cell_type": "code",
   "execution_count": null,
   "metadata": {
    "ExecuteTime": {
     "end_time": "2024-02-23T18:19:01.248593Z",
     "start_time": "2024-02-23T18:19:01.154942Z"
    },
    "collapsed": false
   },
   "outputs": [],
   "source": [
    "var x = 10\n",
    "x = 20\n",
    "println(x)"
   ]
  },
  {
   "cell_type": "markdown",
   "metadata": {
    "collapsed": false
   },
   "source": [
    "Nesse exemplo, a variável x é mutável, então podemos alterar seu valor de 10 para 20. Vejamos o uso de **val**:"
   ]
  },
  {
   "cell_type": "code",
   "execution_count": null,
   "metadata": {
    "ExecuteTime": {
     "end_time": "2024-02-23T18:19:01.299891Z",
     "start_time": "2024-02-23T18:19:01.251199Z"
    },
    "collapsed": false
   },
   "outputs": [],
   "source": [
    "val y = 10\n",
    "//y = 20 // Isso dará erro"
   ]
  },
  {
   "cell_type": "markdown",
   "metadata": {
    "collapsed": false
   },
   "source": [
    "Nesse exemplo acima, a variável y é imutável, então não podemos alterar seu valor de 10 para 20. Se tentarmos fazer isso, o programa não compilará. Descomente o código acima, da linha 20, para ver o erro."
   ]
  },
  {
   "cell_type": "markdown",
   "metadata": {
    "collapsed": false
   },
   "source": [
    "## Tipos de dados\n",
    "Kotlin é uma linguagem fortemente tipada, ou seja, todas as variáveis devem ter um tipo. Os tipos primitivos em Kotlin são: **Int**, **Long**, **Short**, **Byte**, **Float**, **Double**, **Char**, **Boolean**. Além disso, temos o tipo **String** e o tipo **Any**. Assim como em Java, que toda classe herda de Object, em Kotlin, toda classe herda de Any.\n",
    "Vejamos alguns exemplos de declaração de variáveis com tipos primitivos:"
   ]
  },
  {
   "cell_type": "code",
   "execution_count": null,
   "metadata": {
    "ExecuteTime": {
     "end_time": "2024-02-23T18:21:33.705811Z",
     "start_time": "2024-02-23T18:21:33.546685Z"
    },
    "collapsed": false
   },
   "outputs": [],
   "source": [
    "val a: Int = 10\n",
    "val b: Long = 10L\n",
    "val c: Short = 10\n",
    "val d: Byte = 10\n",
    "val e: Float = 10.0f\n",
    "val f: Double = 10.0\n",
    "val g: Char = 'a'\n",
    "val h: Boolean = true\n",
    "val i: String = \"Hello, World!\""
   ]
  },
  {
   "cell_type": "markdown",
   "metadata": {
    "collapsed": false
   },
   "source": [
    "Podemos imprimir os valores das variáveis num print da seguinte forma:"
   ]
  },
  {
   "cell_type": "code",
   "execution_count": null,
   "metadata": {
    "ExecuteTime": {
     "end_time": "2024-02-23T18:19:01.468929Z",
     "start_time": "2024-02-23T18:19:01.393799Z"
    },
    "collapsed": false
   },
   "outputs": [],
   "source": [
    "println(\"a = $a\")"
   ]
  },
  {
   "cell_type": "markdown",
   "metadata": {
    "collapsed": false
   },
   "source": [
    "O símbolo \\$ é usado para interpolar variáveis em strings. Se quisermos interpolar uma expressão, usamos o dólar com {}:"
   ]
  },
  {
   "cell_type": "code",
   "execution_count": null,
   "metadata": {
    "ExecuteTime": {
     "end_time": "2024-02-23T18:19:01.634478Z",
     "start_time": "2024-02-23T18:19:01.472279Z"
    },
    "collapsed": false
   },
   "outputs": [],
   "source": [
    "println(\"a + b = ${a + b}\")"
   ]
  },
  {
   "cell_type": "markdown",
   "metadata": {
    "collapsed": false
   },
   "source": [
    "## Coleções\n",
    "Kotlin tem várias coleções, como **List**, **Set** e **Map**. Vamos ver um exemplo de cada uma:"
   ]
  },
  {
   "cell_type": "code",
   "execution_count": null,
   "metadata": {
    "ExecuteTime": {
     "end_time": "2024-02-23T18:19:01.863039Z",
     "start_time": "2024-02-23T18:19:01.638808Z"
    },
    "collapsed": false
   },
   "outputs": [],
   "source": [
    "val numeros = listOf(1, 2, 3, 4, 5)\n",
    "println(\"O último elemento da lista é ${numeros[numeros.size - 1]}\")"
   ]
  },
  {
   "cell_type": "markdown",
   "metadata": {
    "collapsed": false
   },
   "source": [
    "A função **listOf** cria uma lista imutável. Ou seja, não há o método **add* para acrescentar novos elementos. O tipo dessa lista é **List<Int>**. Você não precisa especificar o tipo, já que o Kotlin tem inferência de tipos. Mas, se quiser especificar, pode fazer da seguinte forma:"
   ]
  },
  {
   "cell_type": "code",
   "execution_count": null,
   "metadata": {
    "ExecuteTime": {
     "end_time": "2024-02-23T18:19:01.985545Z",
     "start_time": "2024-02-23T18:19:01.868822Z"
    },
    "collapsed": false
   },
   "outputs": [],
   "source": [
    "val numeros2: List<Int> = listOf(1, 2, 3, 4, 5)"
   ]
  },
  {
   "cell_type": "markdown",
   "metadata": {
    "collapsed": false
   },
   "source": [
    "Se tentarmos acrescentar um novo elemento na lista, o programa não compilará. Descomente o código abaixo para ver o erro:"
   ]
  },
  {
   "cell_type": "code",
   "execution_count": null,
   "metadata": {
    "ExecuteTime": {
     "end_time": "2024-02-23T18:19:02.069036Z",
     "start_time": "2024-02-23T18:19:01.988368Z"
    },
    "collapsed": false
   },
   "outputs": [],
   "source": [
    "val numeros3 = listOf(1, 2, 3, 4, 5)\n",
    "//numeros3.add(6)"
   ]
  },
  {
   "cell_type": "markdown",
   "metadata": {
    "collapsed": false
   },
   "source": [
    "Porém, podemos criar uma nova lista a partir da atual, com um novo elemento:"
   ]
  },
  {
   "cell_type": "code",
   "execution_count": null,
   "metadata": {
    "ExecuteTime": {
     "end_time": "2024-02-23T18:19:02.335253Z",
     "start_time": "2024-02-23T18:19:02.073360Z"
    },
    "collapsed": false
   },
   "outputs": [],
   "source": [
    "val numeros4 = numeros.plus(6)\n",
    "// ou\n",
    "val numeros5 = numeros + 6\n",
    "println(numeros4)\n",
    "println(numeros5)"
   ]
  },
  {
   "cell_type": "markdown",
   "metadata": {
    "collapsed": false
   },
   "source": [
    "Para criar uma lista mutável, usamos a função **mutableListOf**:"
   ]
  },
  {
   "cell_type": "code",
   "execution_count": null,
   "metadata": {
    "ExecuteTime": {
     "end_time": "2024-02-23T18:19:02.447142Z",
     "start_time": "2024-02-23T18:19:02.338237Z"
    },
    "collapsed": false
   },
   "outputs": [],
   "source": [
    "val numeros6 = mutableListOf(1, 2, 3, 4, 5)\n",
    "numeros6.add(6)\n",
    "println(numeros6)"
   ]
  },
  {
   "cell_type": "markdown",
   "metadata": {
    "collapsed": false
   },
   "source": [
    "## Condicionais"
   ]
  },
  {
   "cell_type": "code",
   "execution_count": null,
   "metadata": {
    "ExecuteTime": {
     "end_time": "2024-02-23T18:19:02.600934Z",
     "start_time": "2024-02-23T18:19:02.451593Z"
    },
    "collapsed": false
   },
   "outputs": [],
   "source": [
    "var ehMenorIdade = true\n",
    "if (ehMenorIdade) {\n",
    "    println(\"Menor de idade\")\n",
    "} else {\n",
    "    println(\"Maior de idade\")\n",
    "}"
   ]
  },
  {
   "cell_type": "markdown",
   "metadata": {
    "collapsed": false
   },
   "source": [
    "Podemos usar o **if** como uma expressão, ou seja, podemos atribuir o resultado do **if** a uma variável:"
   ]
  },
  {
   "cell_type": "code",
   "execution_count": null,
   "metadata": {
    "ExecuteTime": {
     "end_time": "2024-02-23T18:19:02.711585Z",
     "start_time": "2024-02-23T18:19:02.604351Z"
    },
    "collapsed": false
   },
   "outputs": [],
   "source": [
    "val idade = 17\n",
    "val resultado = if (idade < 18) \"Menor de idade\" else \"Maior de idade\"\n",
    "println(resultado)"
   ]
  },
  {
   "cell_type": "markdown",
   "metadata": {
    "collapsed": false
   },
   "source": [
    "Também podemos fazer uma função de forma mais simples usando esse padrão do if:"
   ]
  },
  {
   "cell_type": "code",
   "execution_count": null,
   "metadata": {
    "ExecuteTime": {
     "end_time": "2024-02-23T18:19:02.804538Z",
     "start_time": "2024-02-23T18:19:02.722625Z"
    },
    "collapsed": false
   },
   "outputs": [],
   "source": [
    "fun textoMenorIdade(idade: Int) = if (idade < 18) \"Menor de idade\" else \"Maior de idade\"\n",
    "println(textoMenorIdade(17))\n",
    "println(textoMenorIdade(20))"
   ]
  },
  {
   "cell_type": "markdown",
   "metadata": {
    "collapsed": false
   },
   "source": [
    "## Laços\n",
    "Os laços em Kotlin são **for** e **while**. Vamos ver um exemplo de cada um:"
   ]
  },
  {
   "cell_type": "code",
   "execution_count": null,
   "metadata": {
    "ExecuteTime": {
     "end_time": "2024-02-23T18:19:03.075596Z",
     "start_time": "2024-02-23T18:19:02.806464Z"
    },
    "collapsed": false
   },
   "outputs": [],
   "source": [
    "// for de 1 a 10\n",
    "for (i in 1..10) {\n",
    "    print(\" $i\")\n",
    "}\n",
    "println(\"\\nuntil\")\n",
    "\n",
    "// for de 1 até 9 (exclui-se o último valor)\n",
    "for (i in 1 until 10) {\n",
    "    print(\" $i\")\n",
    "}\n",
    "\n",
    "println(\"\\ndownto\")\n",
    "// for de 10 até 1\n",
    "for (i in 10 downTo 1) {\n",
    "    print(\" $i\")\n",
    "}\n",
    "\n",
    "println(\"\\nstep\")\n",
    "// for de 1 a 10, pulando de 2 em 2\n",
    "for (i in 1..10 step 2) {\n",
    "    print(\" $i\")\n",
    "}"
   ]
  },
  {
   "cell_type": "markdown",
   "metadata": {
    "collapsed": false
   },
   "source": [
    "O **for** em Kotlin é bem poderoso, e pode ser usado para percorrer qualquer coisa que seja iterável. Por exemplo, podemos percorrer uma lista:"
   ]
  },
  {
   "cell_type": "code",
   "execution_count": null,
   "metadata": {
    "ExecuteTime": {
     "end_time": "2024-02-23T18:19:03.154385Z",
     "start_time": "2024-02-23T18:19:03.078027Z"
    },
    "collapsed": false
   },
   "outputs": [],
   "source": [
    "val lista = listOf(1, 2, 3, 4, 5)\n",
    "for (i in lista) {\n",
    "    print(\" $i\")\n",
    "}"
   ]
  },
  {
   "cell_type": "markdown",
   "metadata": {
    "collapsed": false
   },
   "source": [
    "Também podemos percorrer uma lista usando o forEach:"
   ]
  },
  {
   "cell_type": "code",
   "execution_count": null,
   "metadata": {
    "ExecuteTime": {
     "end_time": "2024-02-23T18:19:03.262975Z",
     "start_time": "2024-02-23T18:19:03.156106Z"
    },
    "collapsed": false
   },
   "outputs": [],
   "source": [
    "val lista2 = listOf(1, 2, 3, 4, 5)\n",
    "lista2.forEach { print(it) }"
   ]
  },
  {
   "cell_type": "markdown",
   "metadata": {
    "collapsed": false
   },
   "source": [
    "Perceba que o forEach recebe um lambda como parâmetro. O lambda é uma função anônima, ou seja, uma função sem nome. No caso acima, o lambda recebe um parâmetro, que é o elemento da lista, e imprime esse elemento. Se o lambda tiver apenas um parâmetro, podemos omitir o nome do parâmetro e usar **it**. Isso é o mesmo que o código abaixo:"
   ]
  },
  {
   "cell_type": "code",
   "execution_count": null,
   "metadata": {
    "ExecuteTime": {
     "end_time": "2024-02-23T18:19:03.355692Z",
     "start_time": "2024-02-23T18:19:03.266913Z"
    },
    "collapsed": false
   },
   "outputs": [],
   "source": [
    "val lista3 = listOf(1, 2, 3, 4, 5)\n",
    "lista3.forEach { elemento -> print(elemento) }"
   ]
  },
  {
   "cell_type": "markdown",
   "metadata": {
    "collapsed": false
   },
   "source": [
    "O while é similar ao while de outras linguagens:"
   ]
  },
  {
   "cell_type": "code",
   "execution_count": null,
   "metadata": {
    "ExecuteTime": {
     "end_time": "2024-02-23T18:19:03.430147Z",
     "start_time": "2024-02-23T18:19:03.357880Z"
    },
    "collapsed": false
   },
   "outputs": [],
   "source": [
    "var i = 0\n",
    "while (i < 10) {\n",
    "    print(\" $i\")\n",
    "    i++\n",
    "}"
   ]
  },
  {
   "cell_type": "markdown",
   "metadata": {
    "collapsed": false
   },
   "source": [
    "## When\n",
    "O **when** é similar ao **switch** de outras linguagens, mas é bem mais poderoso. Vamos ver um exemplo:"
   ]
  },
  {
   "cell_type": "code",
   "execution_count": null,
   "metadata": {
    "ExecuteTime": {
     "end_time": "2024-02-23T18:19:03.524715Z",
     "start_time": "2024-02-23T18:19:03.431577Z"
    },
    "collapsed": false
   },
   "outputs": [],
   "source": [
    "val w = 2\n",
    "when (w) {\n",
    "    1 -> println(\"w é 1\")\n",
    "    2 -> println(\"w é 2\")\n",
    "    3 -> println(\"w é 3\")\n",
    "    else -> println(\"w não é 1, 2 ou 3\")\n",
    "}"
   ]
  },
  {
   "cell_type": "markdown",
   "metadata": {
    "collapsed": false
   },
   "source": [
    "## Entrada do usuário\n",
    "A entrada do usuário pode ser feita com a função **readLine** (obs.: como estamos executando o Kotlin no Jupyter, a função **readLine** não funcionará aqui, mas funcionará em um ambiente de desenvolvimento normal, como o IntelliJ IDEA ou o VS Code, por exemplo). Vejamos um exemplo (está comentado porque, aqui no Notebook, não é possível pegar da entrada do usuário):"
   ]
  },
  {
   "cell_type": "code",
   "execution_count": null,
   "metadata": {
    "ExecuteTime": {
     "end_time": "2024-02-23T18:21:29.637706Z",
     "start_time": "2024-02-23T18:19:03.591763Z"
    },
    "collapsed": false
   },
   "outputs": [],
   "source": [
    "//val nome = readLine()"
   ]
  },
  {
   "cell_type": "markdown",
   "metadata": {
    "collapsed": false
   },
   "source": [
    "Se quiser pegar um dado inteiro, por exemplo, é necessário transformar o valor retornado por **readLine** em um inteiro:"
   ]
  },
  {
   "cell_type": "code",
   "execution_count": null,
   "metadata": {
    "ExecuteTime": {
     "end_time": "2024-02-23T18:21:33.543192Z",
     "start_time": "2024-02-23T18:21:29.640142Z"
    },
    "collapsed": false
   },
   "outputs": [],
   "source": [
    "//val idade = readLine()!!.toInt()\n",
    "// o !! é para dizer que a variável não é nula. Estudaremos isso mais adiante."
   ]
  }
 ],
 "metadata": {
  "kernelspec": {
   "display_name": "Kotlin",
   "language": "kotlin",
   "name": "kotlin"
  },
  "ktnbPluginMetadata": {
   "projectDependencies": [
    "introducao-kotlin"
   ]
  },
  "language_info": {
   "codemirror_mode": "text/x-kotlin",
   "file_extension": ".kt",
   "mimetype": "text/x-kotlin",
   "name": "kotlin",
   "nbconvert_exporter": "",
   "pygments_lexer": "kotlin",
   "version": "1.9.0"
  }
 },
 "nbformat": 4,
 "nbformat_minor": 0
}
