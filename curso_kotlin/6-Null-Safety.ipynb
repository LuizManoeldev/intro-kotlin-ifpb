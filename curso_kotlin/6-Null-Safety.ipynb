{
 "cells": [
  {
   "cell_type": "markdown",
   "metadata": {
    "collapsed": false
   },
   "source": [
    "![Logo do Kotlin](https://upload.wikimedia.org/wikipedia/commons/thumb/d/d4/Kotlin_logo.svg/2560px-Kotlin_logo.svg.png)\n",
    "# Null Safety\n",
    "Este documento foi desenvolvido pelos seguintes alunos de TSI do IFPB, sob subervisão do professor Gustavo Wagner (2024.1):\n",
    "1. Amanda Cruz de Araújo\n",
    "2. George Lima\n",
    "3. Luiz Manoel\n",
    "4. Manoel Pedro\n",
    "5. Olivia Oliva\n",
    "\n",
    "\n",
    "### 1. Tipos anuláveis e não anuláveis\n",
    "O sistema de tipos em Kotlin visa eliminar o perigo de referências `null`, conhecido como \"The Billion Dollar Mistake\". \n",
    "\n",
    " - Curiosidade: Como surgiu o termo \"The Billion Dollar Mistake\"?\n",
    "   - Tony Hoare inventou a referência `null` em 1965 como parte da linguagem ALGOL W e, em 2009, ele descreveu a sua invenção como um “erro de um bilhão de dólares”, afirmando que ela levou a inúmeros erros, vulnerabilidades e falhas de sistema, que, segundo ele, provavelmente causaram um bilhão de dólares de dor e danos nos últimos quarenta anos.\n",
    "\n",
    "Acessar uma referência `null` na maioria das linguagens resulta em uma exceção e, na maioria das vezes, a mesma é encontrada em tempo de execução. Porém, em Kotlin, uma `NullPointerException` só é causada em situações específicas, sendo encontrada em tempo de compilação, o que facilita a vida do desenvolvedor. \n",
    "\n",
    "Em Kotlin, o sistema de tipos distingue referências que podem conter valores `null`(referências anuláveis) das que não podem (referências não anuláveis).\n",
    "\n",
    "O tipo `String` é um exemplo de um tipo não anulável. Observe que ao executar o código a seguir surgirá um erro de compilação, pois tentamos atribuir um valor `null` a um tipo não anulável."
   ]
  },
  {
   "cell_type": "code",
   "execution_count": null,
   "metadata": {
    "ExecuteTime": {
     "end_time": "2024-03-11T02:48:25.747397700Z",
     "start_time": "2024-03-11T02:48:24.968793300Z"
    },
    "collapsed": false
   },
   "outputs": [],
   "source": [
    "var aluno: String = \"Amanda\"\n",
    "aluno = null"
   ]
  },
  {
   "cell_type": "markdown",
   "metadata": {
    "collapsed": false
   },
   "source": []
  },
  {
   "cell_type": "markdown",
   "metadata": {
    "collapsed": false
   },
   "source": [
    "Ao utilizar tipos não anuláveis note que podemos chamar um método ou acessar uma propriedade da variável sem a preocupação de uma `NullPointerException`, observe no código a seguir:"
   ]
  },
  {
   "cell_type": "code",
   "execution_count": null,
   "metadata": {
    "ExecuteTime": {
     "end_time": "2024-03-11T02:48:25.792399100Z",
     "start_time": "2024-03-11T02:48:25.015663500Z"
    },
    "collapsed": false
   },
   "outputs": [],
   "source": [
    "var professor: String = \"Gustavo\"\n",
    "println(professor.length)"
   ]
  },
  {
   "cell_type": "markdown",
   "metadata": {
    "collapsed": false
   },
   "source": [
    "É possível permitir a atribuição de tipos nulos a tipos não anuláveis, para isso é preciso denotar explicitamente utlizando `String?` , como demostrado no código a seguir:"
   ]
  },
  {
   "cell_type": "markdown",
   "metadata": {
    "collapsed": false
   },
   "source": []
  },
  {
   "cell_type": "code",
   "execution_count": null,
   "metadata": {
    "ExecuteTime": {
     "end_time": "2024-03-11T02:48:25.820399800Z",
     "start_time": "2024-03-11T02:48:25.109832600Z"
    },
    "collapsed": false
   },
   "outputs": [],
   "source": [
    "var teste: String? = \"Agora aceita null\"\n",
    "teste = null\n",
    "print(teste)"
   ]
  },
  {
   "cell_type": "markdown",
   "metadata": {
    "collapsed": false
   },
   "source": [
    "Nesse caso é preciso ter atenção para não ocorrerem erros de compilação, como ocorre no exemplo a seguir:"
   ]
  },
  {
   "cell_type": "code",
   "execution_count": null,
   "metadata": {
    "ExecuteTime": {
     "start_time": "2024-03-11T02:48:25.241309800Z"
    },
    "collapsed": false
   },
   "outputs": [],
   "source": [
    "var opa: String? = \"Será que vai dar erro?\"\n",
    "opa = null\n",
    "println(opa.length)\n"
   ]
  },
  {
   "cell_type": "markdown",
   "metadata": {
    "collapsed": false
   },
   "source": [
    "Porém não se preocupe, nesse caso também é possível acessar essa propriedade sem gerar erros de compilação, veremos como fazer isso a seguir!\n",
    " \n"
   ]
  },
  {
   "cell_type": "markdown",
   "metadata": {
    "collapsed": false
   },
   "source": [
    "### 2. Checagem de valores Nulos\n",
    "\n",
    "Como já visto, a linguagem Kotlin procura evitar erros relacionados à manipulação de valores nulos ainda em tempo de densenvolvimento, induzindo a pessoa desenvolvedora a adicionar operações de verificação antes de tentar acessar valores possivelmente nulos. Abaixo serão apresentadas formas de se fazer esta verificação utilizando tanto recursos comuns a outras linguagens de programação quanto recursos característicos da linguagem Kotlin.\n",
    "Os dois exemplos abaixo utilizam uma estrutura padrão de checagem de condição (if statement) para verificar quais valores são ou não nulos antes de acessá-los."
   ]
  },
  {
   "cell_type": "code",
   "execution_count": null,
   "metadata": {
    "ExecuteTime": {
     "end_time": "2024-03-11T02:48:26.000942200Z",
     "start_time": "2024-03-11T02:48:25.309330800Z"
    },
    "collapsed": false
   },
   "outputs": [],
   "source": [
    "val exemploDePalavra: String? = \"Exemplo\"\n",
    "val tamanhoDaPalavra = if (exemploDePalavra != null) exemploDePalavra.length else 0\n",
    "//Atribui o valor dinâmico caso a expressão lógica retorne true, e um valor estático 0 caso o retorno seja false.\n",
    " \n",
    "println(\"Tamanho da palavra informada: $tamanhoDaPalavra caracteres\")\n"
   ]
  },
  {
   "cell_type": "markdown",
   "metadata": {
    "collapsed": false
   },
   "source": [
    "Experimente alterar o valor da variável `exemploDePalavra` na linha 1 para `null` e execute novamente.\n",
    "Por enquanto não precisa se preocupar com o operador `?`. Ele será explicado na seção seguinte."
   ]
  },
  {
   "cell_type": "markdown",
   "metadata": {
    "collapsed": false
   },
   "source": [
    "O exemeplo a seguir itera sobre uma lista de dados e imprime na tela somente os dados não nulos."
   ]
  },
  {
   "cell_type": "code",
   "execution_count": null,
   "metadata": {
    "collapsed": false
   },
   "outputs": [],
   "source": [
    "var nome = \"João José\"\n",
    "var idade = null\n",
    "var estaEmpregado = false\n",
    "var renda = 0.0\n",
    "\n",
    "var dadosUsuario = mutableListOf(nome, idade, estaEmpregado, renda)\n",
    "\n",
    "for(dado in dadosUsuario) {\n",
    "    if(dado != null) {\n",
    "        println(dado) //Somente os dados não nulos serão exibidos.\n",
    "    }\n",
    "}"
   ]
  },
  {
   "cell_type": "markdown",
   "metadata": {
    "collapsed": false
   },
   "source": [
    "Para fins didáticos, os tipos das variáveis acima não foram definidos explicitamente. Sendo assim, foram inferidos a partir dos valores de inicialização, logo nenhum deles pode assumir `null` ao longo da execução do código, exceto se forem inicialmente assim declarados.\n",
    "Uma vez familiarizado com o operador `?`, é possível declarar variáveis que permitam receber tanto tipos não nulos quanto o valor `null`, podendo ser alteradas ao longo da execução do código, permitindo assim maior flexibilidade no desenvolvimento."
   ]
  },
  {
   "cell_type": "markdown",
   "metadata": {
    "collapsed": false
   },
   "source": [
    "### 3. Safe calls\n",
    "\n",
    "Uma alternativa fornecida pelo Kotlin para acessar uma variável ou propriedade que pode ser nula é utilizando o operador de safe call `?.`. Em vez de acessar diretamente uma propriedade de um objeto ou valor de uma variável, o qual pode ser nulo e, portanto, correr o risco de lançar uma exceção, o operador `?.` permite realizar uma verificação prévia para checar se o valor é nulo.\n"
   ]
  },
  {
   "cell_type": "code",
   "execution_count": null,
   "metadata": {
    "collapsed": false
   },
   "outputs": [],
   "source": [
    "var variavel: String? = null\n",
    "\n",
    "//println(variavel.length) // sem Safe Call\n",
    "println(variavel?.length) // com Safe Call"
   ]
  },
  {
   "cell_type": "markdown",
   "metadata": {
    "collapsed": false
   },
   "source": [
    "A safe call também permite o acesso seguro a propriedades de objetos que podem ser nulas, evitando o risco de lançar uma exceção de `NullPointerException`. Além disso, a safe call pode ser utilizada em uma cadeia de chamadas, permitindo acessar várias propriedades aninhadas sem o risco de exceções."
   ]
  },
  {
   "cell_type": "code",
   "execution_count": null,
   "metadata": {
    "collapsed": false
   },
   "outputs": [],
   "source": [
    "class Pessoa(val endereco: Endereco?)\n",
    "class Endereco(val rua: String?, val cidade: Cidade?)\n",
    "class Cidade(var nome: String?)\n",
    "\n",
    "fun comSafeCall() {\n",
    "    var cidade: Cidade? = Cidade(\"New York\") //null\n",
    "    val endereco: Endereco? = Endereco(\"Broadway\", cidade)\n",
    "    val pessoa: Pessoa? = Pessoa(endereco)\n",
    "\n",
    "    // Se pessoa.endereço != Null -> se cidade != Null -> acessa o nome.\n",
    "    println(pessoa?.endereco?.cidade?.nome)\n",
    "}\n",
    "\n",
    "comSafeCall()"
   ]
  },
  {
   "cell_type": "markdown",
   "metadata": {
    "collapsed": false
   },
   "source": [
    "A Safe Call tambem pode ser usada à esquerda de uma atribuição e se ao menos um dos valores da cadeia for nulo, a expressão direita é completamente ignorada."
   ]
  },
  {
   "cell_type": "code",
   "execution_count": null,
   "metadata": {
    "collapsed": false
   },
   "outputs": [],
   "source": [
    "class Pessoa(val endereco: Endereco?)\n",
    "class Endereco(var rua: String?)\n",
    "\n",
    "fun main() {\n",
    "    val endereco: Endereco? = null //Endereco(\"Rua 1\")\n",
    "    val pessoa: Pessoa? = Pessoa(endereco)\n",
    "    \n",
    "    // Endereço é null\n",
    "    pessoa?.endereco?.rua = \"Rua XYZ\"\n",
    "    println(endereco?.rua) // A saída será null, pois a atribuição é ignorada\n",
    "}\n",
    "\n",
    "main()"
   ]
  },
  {
   "cell_type": "markdown",
   "metadata": {
    "collapsed": false
   },
   "source": [
    "### 4. Nullable receiver\n",
    "Em Kotlin, podemos criar funções extras para classes já existentes sem mudar essas classes (alterando o código-fonte delas ou herdando), chamadas de \"funções de extensão\". O diferencial positivo é que essas funções podem ser chamadas até mesmo quando envolverem variáveis que possivelmente não têm valor (são `null`). Isso ajuda a tornar o nosso código mais seguro e limpo, porque podemos usar essas funções sem nos preocuparmos se a variável é `null`, evitando o erro de `NullPointerException`.\n",
    "\n",
    "#### Principais pontos positivos do uso:\n",
    "\n",
    "Os Nullable Receivers são importantes porque:\n",
    "\n",
    "- Promovem a segurança contra `null`: Ao permitir que funções de extensão sejam chamadas em referências que podem ser `null`, Kotlin elimina a necessidade de verificações explícitas de null, tornando o código mais limpo e legível.\n",
    "\n",
    "- Facilitam a manipulação de tipos nullable: Em Kotlin, lidar com tipos nullable é uma ocorrência comum. Os Nullable Receivers permitem que operações sejam executadas em valores null de maneira segura, sem causar `NullPointerException`.\n",
    "\n",
    "- Aumentam a expressividade do código: Com os Nullable Receivers, é possível escrever funções que operam de maneira diferente dependendo do seu receptor ser `null` ou não, oferecendo uma maneira flexível de tratar casos nulos.\n",
    "\n",
    "#### Lógica por trás dos Nullable Receivers\n",
    "\n",
    "A lógica dos Nullable Receivers em Kotlin é baseada no princípio de que é possível chamar funções em objetos `null` sem causar erros em tempo de execução. Se o receptor (o objeto no qual a função de extensão é chamada) for `null`, a função simplesmente não será executada, evitando assim o `NullPointerException`.\n",
    "\n",
    "No exemplo a seguir, `printWithPrefix` é uma função de extensão que aceita um `String?` como receptor. Isso significa que ela pode ser chamada em uma `String` que pode ser `null`. Dentro da função, usamos `if (this != null)` para verificar se o receptor é `null` e agir de acordo. Esse é um padrão comum ao trabalhar com Nullable Receivers em Kotlin.\n"
   ]
  },
  {
   "cell_type": "code",
   "execution_count": null,
   "metadata": {
    "collapsed": false
   },
   "outputs": [],
   "source": [
    "//manoel\n",
    "// Definindo uma função de extensão para String? que pode ser chamada em referências nulas\n",
    "fun String?.printWithPrefix(prefix: String) {\n",
    "    if (this != null) {\n",
    "        println(\"$prefix $this\")\n",
    "    } else {\n",
    "        println(\"$prefix é null\")\n",
    "    }\n",
    "}\n",
    "\n",
    "// Uso da função de extensão em um objeto que pode ser null\n",
    "\n",
    "    val strNull: String? = null\n",
    "    val strNotNull: String? = \"Kotlin\"\n",
    "    \n",
    "    \n",
    "    // Chamando a função de extensão em ambos, um objeto nulo e um não nulo\n",
    "    strNull.printWithPrefix(\"O valor\")\n",
    "    strNotNull.printWithPrefix(\"O valor\")\n",
    "    \n",
    "    \n",
    "    \n",
    "\n",
    "\n"
   ]
  },
  {
   "cell_type": "markdown",
   "metadata": {
    "collapsed": false
   },
   "source": [
    "### 5. Elvis operator\n",
    "####  Por que `Elvis`?\n",
    " Bom, O nome \"operador de Elvis\" refere-se ao fato de que quando o operador, ?:, é vista de lado, assemelha-se a um emoji de Elvis Presley com o seu penteado belíssimo.\n",
    "\n",
    "\n",
    "#### Criando contexto:\n",
    " Quando você tem uma referência anulável, x, você pode dizer \"se x não for nulo, use-o, caso contrário, use algum valor não nulo\":"
   ]
  },
  {
   "cell_type": "code",
   "execution_count": null,
   "metadata": {
    "collapsed": false
   },
   "outputs": [],
   "source": [
    "val x: String = \"Olá\"\n",
    "val example: Int = if (x != null) x.length else -1\n",
    "print(example)"
   ]
  },
  {
   "cell_type": "markdown",
   "metadata": {
    "collapsed": false
   },
   "source": [
    "Note que, ao invés de escrever a expressão if completa, você pode expressar isso com o operador `Elvis ?:`"
   ]
  },
  {
   "cell_type": "code",
   "execution_count": null,
   "metadata": {
    "collapsed": false
   },
   "outputs": [],
   "source": [
    "val x: String = \"Olá Mundo!\"\n",
    "val elvis = x?.length ?: -1\n",
    "print(elvis)"
   ]
  },
  {
   "cell_type": "markdown",
   "metadata": {
    "collapsed": false
   },
   "source": [
    "#### Tá, mas o que aconteceu?\n",
    "\n",
    "Se a expressão à esquerda de ?: não for nula, o operador Elvis devolve-a, caso contrário devolve a expressão à direita. Observe que a expressão do lado direito só será avaliada se o lado esquerdo for nulo."
   ]
  },
  {
   "cell_type": "markdown",
   "metadata": {
    "collapsed": false
   },
   "source": [
    "Ah, e vale lembrar também que:\n",
    "Como `throw` e `return` são expressões em Kotlin, eles também podem ser usados no lado direito do operador Elvis. Isto pode ser útil, por exemplo, ao verificar argumentos de funções:"
   ]
  },
  {
   "cell_type": "code",
   "execution_count": null,
   "metadata": {
    "collapsed": false
   },
   "outputs": [],
   "source": [
    "data class User(val name: String)\n",
    "\n",
    "fun findUserByName(users: List<User>, name: String?): User {\n",
    "    val user = users.find { it.name == name } ?: return User(\"Unknown\")\n",
    "    return user\n",
    "}\n",
    "\n",
    "fun findUserException(users: List<User>, name: String?): User {\n",
    "    val user = users.find {it.name == name} ?: throw IllegalArgumentException(\"User not found.\")\n",
    "    return user\n",
    "}\n",
    "\n",
    "    val users = listOf(User(\"Gustavo\"), User(\"Rodrigo\"), User(\"Olivia\"))\n",
    "\n",
    "    println(\"Return:\")\n",
    "    println(findUserByName(users, \"Rodrigo\"))  // Deve imprimir o usuário\n",
    "    println(findUserByName(users, \"Caio\")) // Deve imprimir (name=Unknown)\n",
    "    println(\"Throw:\")\n",
    "    println(findUserException(users, \"Gustavo\")) // Deve imprimir o usuário\n",
    "    println(findUserException(users, \"Wagner\")) // Deve trazer uma exceção"
   ]
  },
  {
   "cell_type": "markdown",
   "metadata": {
    "collapsed": false
   },
   "source": [
    "### 6. The !! operator\n",
    "O operador de afirmação não nulo `(!!)` converte qualquer valor em um tipo não anulável e lança uma exceção se o valor for nulo.\n",
    "\n",
    "#### Então, quando devo usá-lo?\n",
    " Se você tem certeza de que um valor não é nulo em um determinado ponto do código, use o operador (!!) para desafiar o Kotlin e afirmar que está tudo sob controle.\n",
    "\n",
    "Aqui ele irá lançar uma exceção:"
   ]
  },
  {
   "cell_type": "code",
   "execution_count": null,
   "metadata": {
    "collapsed": false
   },
   "outputs": [],
   "source": [
    "var nome: String? = null\n",
    "println(nome!!.length)"
   ]
  },
  {
   "cell_type": "markdown",
   "metadata": {
    "collapsed": false
   },
   "source": [
    "E se você for bom em desafios, provavelmente irá funcionar:"
   ]
  },
  {
   "cell_type": "code",
   "execution_count": null,
   "metadata": {
    "ExecuteTime": {
     "end_time": "2024-03-11T02:49:39.300306600Z",
     "start_time": "2024-03-11T02:49:39.111920200Z"
    },
    "collapsed": false
   },
   "outputs": [],
   "source": [
    "var teacher: String? = \"Teacher Gustavo\"\n",
    "println(teacher!!.length)"
   ]
  },
  {
   "cell_type": "markdown",
   "metadata": {
    "collapsed": false
   },
   "source": [
    "### 7. Safe casts\n",
    "\n",
    "#### O que são Safe Casts?\n",
    "\n",
    "Em Kotlin, o operador de safe cast `as?` permite tentar converter um tipo de objeto em outro de maneira segura. Diferentemente do operador de cast regular `as`, que lança uma exceção `ClassCastException` se a conversão não for possível, o operador de safe cast `as?` retorna `null` se a conversão falhar. Isso é particularmente útil em Kotlin devido à sua ênfase na segurança contra valores `null` e na prevenção de exceções em tempo de execução.\n",
    "\n",
    "#### Por que são importantes?\n",
    "\n",
    "Safe casts são importantes porque:\n",
    "\n",
    "- Previnem exceções inesperadas: Ao usar `as?`, você evita `ClassCastException` se a conversão de tipos não for possível, o que pode levar a uma execução de programa mais estável.\n",
    "- Facilitam a manipulação de tipos desconhecidos: quando você trabalha com tipos determinados em tempo de execução e você não tem certeza se a conversão de tipos é segura, o operador `as?` oferece uma maneira de tentar essa conversão sem arriscar uma falha do programa.\n",
    "- Promovem a segurança contra `null`: Ao retornar `null` em caso de falha na conversão, `as?` se alinha perfeitamente com a filosofia de Kotlin de tratar `null` de maneira explícita e segura."
   ]
  },
  {
   "cell_type": "code",
   "execution_count": null,
   "metadata": {
    "collapsed": false
   },
   "outputs": [],
   "source": [
    "\n",
    "    val obj: Any = \"Este é um teste\"\n",
    "\n",
    "    // Tentativa de safe cast de obj para String\n",
    "    val str: String? = obj as? String\n",
    "    println(str) // Funciona porque obj é uma String\n",
    "\n",
    "    // Tentativa de safe cast de obj para StringBuilder\n",
    "    val sb: StringBuilder? = obj as? StringBuilder\n",
    "    println(sb) // Retorna null porque obj não pode ser convertido para StringBuilder"
   ]
  },
  {
   "cell_type": "markdown",
   "metadata": {
    "collapsed": false
   },
   "source": [
    "### 8. Coleções de um tipo anulável"
   ]
  },
  {
   "cell_type": "markdown",
   "metadata": {
    "collapsed": false
   },
   "source": [
    "Para filtrar elementos não nulos de uma coleção de elementos de tipos anuláveis, podemos utilizar a função `filterNotNull`, observe no código a seguir:"
   ]
  },
  {
   "cell_type": "code",
   "execution_count": null,
   "metadata": {
    "collapsed": false
   },
   "outputs": [],
   "source": [
    "val listaAnulaveis: List<String?> = listOf(\"Amanda\",null,\"George\", \"Luiz\" ,null,\"Manoel\", \"Olivia\")\n",
    "val inList: List<String> = listaAnulaveis.filterNotNull()\n",
    "println(inList)"
   ]
  },
  {
   "cell_type": "markdown",
   "metadata": {
    "collapsed": false
   },
   "source": [
    "### 9. Prática\n",
    "\n",
    "Vamos revisar e fixar alguns conhecimentos de Null Safety? :)\n",
    "\n",
    "O código fornecido em src\\main\\kotlin\\praticas\\6-Null-Safety.kt é referente a um sistema de registro de atividades e será nossa base para esse exercício. Dessa forma, siga as instruções a seguir."
   ]
  },
  {
   "cell_type": "markdown",
   "metadata": {
    "collapsed": false
   },
   "source": [
    "- Na linha 51 do código é instaciada uma atividade com valor de descrição igual a `null` (sendo que descrição é tipo `String`). Execute o código e observe que não surgirá erro de compilação. Entretanto, descomente a linha 54 e observe o erro de compilação fornecido. Sua primeira missão aqui é corrigir o código para que esse erro não ocorra.\n",
    "- Perceba que cada atividade possui sua data de realização, que pode ser `null`. As datas são estruturadas com `dia` e `mes`, que também podem ser nulos. Escreva o código da função `listarTituloEMes` que deve imprimir na tela o título da ativadade e o mês em que deve ser realizada. Note que o Kotlin irá indicar erro ao tentar acessar as propriedades da `data`. Faça uso das Safe Calls.\n",
    "- Observe que, ao exibir as atividades cadastradas, algumas possuem o valor 'null' em alguns campos. Crie uma mensagem padrão para esses casos, como \"Campo não informado\". Dica: use o operador Elvis\n",
    "- - Implemente o método chamado `listarAtividadeSemData()` de forma que imprima na tela somente as atividades que tenham tanto o dia quanto o mês com valores nulos. Utilize um if statement para verificar os valores de dia e mês. Será necessário utilizar safe calls nesta verificação. Na sequência instancie uma atividade que receba o valor `null` no parâmetro data. São instâncias neste formato que devem ser listadas por esse método."
   ]
  },
  {
   "cell_type": "markdown",
   "metadata": {
    "collapsed": false
   },
   "source": [
    "### 10. Referências:\n",
    "\n",
    "1. https://kotlinlang.org/docs/null-safety.html#nullable-types-and-non-nullable-types\n",
    "\n",
    "2. https://books.goalkicker.com/KotlinBook/\n",
    "\n",
    "3. https://medium.com/android-news/how-kotlin-addresses-the-billion-dollar-mistake-27609c82703e\n",
    "\n",
    "4. https://www.infoq.com/presentations/Null-References-The-Billion-Dollar-Mistake-Tony-Hoare/\n"
   ]
  }
 ],
 "metadata": {
  "kernelspec": {
   "display_name": "Kotlin",
   "language": "kotlin",
   "name": "kotlin"
  },
  "ktnbPluginMetadata": {
   "projectLibraries": []
  },
  "language_info": {
   "codemirror_mode": "text/x-kotlin",
   "file_extension": ".kt",
   "mimetype": "text/x-kotlin",
   "name": "kotlin",
   "nbconvert_exporter": "",
   "pygments_lexer": "kotlin",
   "version": "1.9.0"
  }
 },
 "nbformat": 4,
 "nbformat_minor": 0
}
