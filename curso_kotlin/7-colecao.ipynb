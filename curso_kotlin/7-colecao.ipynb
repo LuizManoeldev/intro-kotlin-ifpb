{
 "cells": [
  {
   "cell_type": "markdown",
   "metadata": {
    "collapsed": false
   },
   "source": [
    "![Logo do Kotlin](https://upload.wikimedia.org/wikipedia/commons/thumb/d/d4/Kotlin_logo.svg/2560px-Kotlin_logo.svg.png)\n",
    "\n"
   ]
  },
  {
   "cell_type": "markdown",
   "metadata": {
    "collapsed": false
   },
   "source": [
    "***\n",
    "## Coleções\n",
    "Kotlin tem várias coleções, como **Listas**, **Array**, **Conjuntos**  e **Map**. Vamos ver um exemplo de cada uma:\n",
    "\n",
    "//João Victor\n"
   ]
  },
  {
   "cell_type": "code",
   "execution_count": null,
   "metadata": {
    "ExecuteTime": {
     "end_time": "2024-03-11T22:17:37.026152500Z",
     "start_time": "2024-03-11T22:17:36.509533900Z"
    },
    "collapsed": false
   },
   "outputs": [],
   "source": [
    "val numeros = listOf(1, 2, 3, 4, 5)\n",
    "println(\"O último elemento da lista é ${numeros[numeros.size - 1]}\")"
   ]
  },
  {
   "cell_type": "markdown",
   "metadata": {
    "collapsed": false
   },
   "source": [
    " A função **listOf** cria uma lista imutável. Ou seja, não há o método **add* para acrescentar novos elementos. O tipo dessa lista é **List<Int>**. Você não precisa especificar o tipo, já que o Kotlin tem inferência de tipos. Mas, se quiser especificar, pode fazer da seguinte forma: "
   ]
  },
  {
   "cell_type": "code",
   "execution_count": null,
   "metadata": {
    "ExecuteTime": {
     "end_time": "2024-03-11T22:17:37.061059700Z",
     "start_time": "2024-03-11T22:17:36.635197400Z"
    },
    "collapsed": false
   },
   "outputs": [],
   "source": [
    "val numeros2: List<Int> = listOf(1, 2, 3, 4, 5)"
   ]
  },
  {
   "cell_type": "markdown",
   "metadata": {
    "collapsed": false
   },
   "source": [
    "Se tentarmos acrescentar um novo elemento na lista, o programa não compilará. Descomente o código abaixo para ver o erro:"
   ]
  },
  {
   "cell_type": "code",
   "execution_count": null,
   "metadata": {
    "ExecuteTime": {
     "end_time": "2024-03-11T22:17:37.069037700Z",
     "start_time": "2024-03-11T22:17:36.703016500Z"
    },
    "collapsed": false
   },
   "outputs": [],
   "source": [
    "val numeros3 = listOf(1, 2, 3, 4, 5)\n",
    "//numeros3.add(6)"
   ]
  },
  {
   "cell_type": "markdown",
   "metadata": {
    "collapsed": false
   },
   "source": []
  },
  {
   "cell_type": "markdown",
   "metadata": {
    "collapsed": false
   },
   "source": [
    "Para adicionar algo na lista imutável precisa usar o metodo 'plus' ou '+',esse metodo precisa ser usado numa nova variavel criada e chamando a lista imutável,no exemplo abaixo estamos adicionando apenas um número: "
   ]
  },
  {
   "cell_type": "code",
   "execution_count": null,
   "metadata": {
    "ExecuteTime": {
     "end_time": "2024-03-11T22:17:37.074024500Z",
     "start_time": "2024-03-11T22:17:36.745901700Z"
    },
    "collapsed": false
   },
   "outputs": [],
   "source": [
    "    val numeros= listOf(1,2,3,4,5)\n",
    "    val novoNumeros= numeros.plus(6)\n",
    "\n",
    "    println(novoNumeros)\n"
   ]
  },
  {
   "cell_type": "markdown",
   "metadata": {
    "collapsed": false
   },
   "source": []
  },
  {
   "cell_type": "markdown",
   "metadata": {
    "collapsed": false
   },
   "source": [
    "Nesse exemplo abaixo estamos usando o 'plus' para adicionar uma nova lista imutável,nenhuma das duas esta sendo alterada,mas sim criando uma nova lista com o valor de ambas: "
   ]
  },
  {
   "cell_type": "code",
   "execution_count": null,
   "metadata": {
    "ExecuteTime": {
     "end_time": "2024-03-11T22:17:37.094968800Z",
     "start_time": "2024-03-11T22:17:36.840648300Z"
    },
    "collapsed": false
   },
   "outputs": [],
   "source": [
    "    val diasUteis= listOf(\"Seg\",\"Ter\",\"Qua\",\"Qui\",\"Sex\")\n",
    "    val fimDeSemana= listOf(\"Sab\",\"Dom\")\n",
    "    val semana= diasUteis.plus(fimDeSemana)\n",
    "    \n",
    "    println(semana)\n"
   ]
  },
  {
   "cell_type": "markdown",
   "metadata": {
    "collapsed": false
   },
   "source": []
  },
  {
   "cell_type": "markdown",
   "metadata": {
    "collapsed": false
   },
   "source": [
    "No exemplo abaixo usando o '+' estamos adicionando uma letra: "
   ]
  },
  {
   "cell_type": "code",
   "execution_count": null,
   "metadata": {
    "ExecuteTime": {
     "end_time": "2024-03-11T22:17:37.261524Z",
     "start_time": "2024-03-11T22:17:36.969304800Z"
    },
    "collapsed": false
   },
   "outputs": [],
   "source": [
    "    // Usando \"+\"\n",
    "    val letras= listOf(\"a\",\"b\",\"c\",\"d\")\n",
    "    val novaLetras= letras + \"e\"\n",
    "    \n",
    "    println(novaLetras)\n"
   ]
  },
  {
   "cell_type": "markdown",
   "metadata": {
    "collapsed": false
   },
   "source": []
  },
  {
   "cell_type": "markdown",
   "metadata": {
    "collapsed": false
   },
   "source": [
    "Aqui estamos juntando listas imutáveis novamente,porem dessa vez usa o '+': "
   ]
  },
  {
   "cell_type": "code",
   "execution_count": null,
   "metadata": {
    "ExecuteTime": {
     "end_time": "2024-03-11T22:17:37.311390300Z",
     "start_time": "2024-03-11T22:17:37.098957600Z"
    },
    "collapsed": false
   },
   "outputs": [],
   "source": [
    "    // Juntando listas imutaveis\n",
    "    val coresPrimarias=listOf(\"azul\",\"vermelho\",\"amarelo\")\n",
    "    val coresSecundarias=listOf(\"verde\",\"laranja\",\"roxo\")\n",
    "    val cores= coresPrimarias + coresSecundarias\n",
    "    \n",
    "    println(cores)"
   ]
  },
  {
   "cell_type": "markdown",
   "metadata": {
    "collapsed": false
   },
   "source": [
    "Para criar uma lista mutável, usamos a função **mutableListOf**:"
   ]
  },
  {
   "cell_type": "code",
   "execution_count": null,
   "metadata": {
    "ExecuteTime": {
     "end_time": "2024-03-11T22:17:37.330339500Z",
     "start_time": "2024-03-11T22:17:37.219635200Z"
    },
    "collapsed": false
   },
   "outputs": [],
   "source": [
    "val numeros6 = mutableListOf(1, 2, 3, 4, 5)\n",
    "numeros6.add(6)\n",
    "println(numeros6)"
   ]
  },
  {
   "cell_type": "markdown",
   "metadata": {
    "collapsed": false
   },
   "source": [
    "***\n",
    "## Operações com Coleções e Sequências em Kotlin\n",
    "\n",
    "Em Kotlin, podemos realizar várias operações em coleções e sequências para manipular conjuntos de dados de maneira eficiente e expressiva. Veremos algumas das operações mais utilizadas:\n",
    "\n",
    "### Filtragem\n",
    "A primeira operação que veremos é a **filtragem**, que nos permite selecionar elementos de uma coleção com base em determinados critérios."
   ]
  },
  {
   "cell_type": "code",
   "execution_count": null,
   "metadata": {
    "ExecuteTime": {
     "end_time": "2024-03-11T22:17:37.467971400Z",
     "start_time": "2024-03-11T22:17:37.286456700Z"
    },
    "collapsed": false
   },
   "outputs": [],
   "source": [
    "// Criando uma lista de números\n",
    "val numeros = listOf(1, 2, 3, 4, 5)\n",
    "\n",
    "// Filtrando apenas os números pares\n",
    "val numerosPares = numeros.filter { it % 2 == 0 }\n",
    "\n",
    "println(\"Números pares: $numerosPares\")\n"
   ]
  },
  {
   "cell_type": "markdown",
   "metadata": {
    "collapsed": false
   },
   "source": [
    "Neste código, utilizamos a função filter para selecionar apenas os números pares da lista."
   ]
  },
  {
   "cell_type": "markdown",
   "metadata": {
    "collapsed": false
   },
   "source": [
    "### Mapeamento\n",
    "A segunda operação é o **mapeamento**, que nos permite transformar cada elemento de uma coleção de acordo com uma determinada função."
   ]
  },
  {
   "cell_type": "code",
   "execution_count": null,
   "metadata": {
    "ExecuteTime": {
     "end_time": "2024-03-11T22:17:37.699353600Z",
     "start_time": "2024-03-11T22:17:37.436057500Z"
    },
    "collapsed": false
   },
   "outputs": [],
   "source": [
    "val numeros = listOf(1, 2, 3, 4, 5)\n",
    "// Calculando o quadrado de cada número na lista\n",
    "val quadrados = numeros.map { it * it }\n",
    "\n",
    "println(\"Quadrados dos números: $quadrados\")"
   ]
  },
  {
   "cell_type": "markdown",
   "metadata": {
    "collapsed": false
   },
   "source": [
    "Aqui, utilizamos a função **map** para calcular o quadrado de cada número na lista."
   ]
  },
  {
   "cell_type": "markdown",
   "metadata": {
    "collapsed": false
   },
   "source": [
    "### Redução\n",
    "A terceira operação é a **redução**, que nos permite combinar todos os elementos de uma coleção em um único valor."
   ]
  },
  {
   "cell_type": "code",
   "execution_count": null,
   "metadata": {
    "ExecuteTime": {
     "end_time": "2024-03-11T22:17:37.929737100Z",
     "start_time": "2024-03-11T22:17:37.700351800Z"
    },
    "collapsed": false
   },
   "outputs": [],
   "source": [
    "val numeros = listOf(1, 2, 3, 4, 5)\n",
    "// Calculando a soma de todos os números na lista\n",
    "val soma = numeros.reduce { acc, num -> acc + num }\n",
    "\n",
    "println(\"Soma dos números: $soma\")"
   ]
  },
  {
   "cell_type": "markdown",
   "metadata": {
    "collapsed": false
   },
   "source": [
    "Neste trecho, utilizamos a função **reduce** para calcular a soma de todos os números na lista."
   ]
  },
  {
   "cell_type": "markdown",
   "metadata": {
    "collapsed": false
   },
   "source": [
    "### Verificação\n",
    "Por fim, temos a operação de **verificação**, que nos permite verificar se algum elemento da coleção satisfaz determinada condição."
   ]
  },
  {
   "cell_type": "code",
   "execution_count": null,
   "metadata": {
    "ExecuteTime": {
     "end_time": "2024-03-11T22:17:38.048420200Z",
     "start_time": "2024-03-11T22:17:37.930734800Z"
    },
    "collapsed": false
   },
   "outputs": [],
   "source": [
    "val numeros = listOf(1, 2, 3, 4, 5, 6)\n",
    "// Verificando se há algum número maior que cinco na lista\n",
    "val temNumeroMaiorQueCinco = numeros.any { it > 5 }\n",
    "\n",
    "println(\"Tem algum número maior que cinco? $temNumeroMaiorQueCinco\")\n"
   ]
  },
  {
   "cell_type": "markdown",
   "metadata": {
    "collapsed": false
   },
   "source": [
    "Aqui, utilizamos a função **any** para verificar se há algum número maior que cinco na lista."
   ]
  },
  {
   "cell_type": "markdown",
   "metadata": {
    "collapsed": false
   },
   "source": [
    "Essas são algumas das operações mais comuns que podemos realizar em coleções e sequências em Kotlin. Elas nos permitem manipular conjuntos de dados de forma eficiente e expressiva."
   ]
  },
  {
   "cell_type": "markdown",
   "metadata": {
    "collapsed": false
   },
   "source": [
    "***\n",
    "## Programação funcional em coleções\n",
    "A programação funcional em coleções oferece uma abordagem mais declarativa e expressiva para manipular conjuntos de dados. "
   ]
  },
  {
   "cell_type": "code",
   "execution_count": null,
   "metadata": {
    "ExecuteTime": {
     "end_time": "2024-03-11T22:17:38.264842600Z",
     "start_time": "2024-03-11T22:17:38.049417400Z"
    },
    "collapsed": false
   },
   "outputs": [],
   "source": [
    "data class Produto(val nome: String, val preco: Double)\n",
    "        val produtos = listOf(\n",
    "            Produto(\"Feijão\", 10.50),\n",
    "            Produto(\"Arroz\", 8.0),\n",
    "            Produto(\"Macarrão\", 2.50),\n",
    "            Produto(\"Sal\", 3.0),\n",
    "            Produto(\"Sal Marinho\", 15.0)\n",
    "        )\n"
   ]
  },
  {
   "cell_type": "code",
   "execution_count": null,
   "metadata": {
    "ExecuteTime": {
     "end_time": "2024-03-11T22:17:38.279802900Z",
     "start_time": "2024-03-11T22:17:38.138180200Z"
    },
    "collapsed": false
   },
   "outputs": [],
   "source": [
    "// 1. Filtrar produtos com preço superior a R$ 5,00. -> filter\n",
    "        val produtosCaros = produtos.filter { it.preco > 5.0 }\n",
    "        \n",
    "// 1 Produtos que custam mais de: R$5,00: \n",
    "// Feijão, Preço: R$10.5, \n",
    "// Arroz, Preço : R$8.0, \n",
    "// Sal Marinho, Preço: R$15.0 "
   ]
  },
  {
   "cell_type": "code",
   "execution_count": null,
   "metadata": {
    "ExecuteTime": {
     "end_time": "2024-03-11T22:17:38.374549100Z",
     "start_time": "2024-03-11T22:17:38.264842600Z"
    },
    "collapsed": false
   },
   "outputs": [],
   "source": [
    "// 2. Calcular o dobro do preço para cada produto usando -> map\n",
    "        val precosDobrados = produtos.map { it.copy(preco = it.preco * 2) }\n",
    "        \n",
    "// 2 Preços dobrados: \n",
    "// Feijão, Preço: R$21 .0, \n",
    "// Arroz, Preço: R$16.0, \n",
    "// Macarrão, Preço: R$5.0, \n",
    "// Sal, Preço: R$6.0, \n",
    "// Sal Marinho, Preço: R$30.0"
   ]
  },
  {
   "cell_type": "code",
   "execution_count": null,
   "metadata": {
    "ExecuteTime": {
     "end_time": "2024-03-11T22:17:38.500213200Z",
     "start_time": "2024-03-11T22:17:38.351610700Z"
    },
    "collapsed": false
   },
   "outputs": [],
   "source": [
    "// 3. Calcular o preço total dos produtos usando -> reduce\n",
    "        val custoTotal = produtos.map { it.preco }.reduce { acc, preco -> acc + preco }\n",
    "        \n",
    "// 3 Custo total dos produtos: R$39.0 "
   ]
  },
  {
   "cell_type": "code",
   "execution_count": null,
   "metadata": {
    "ExecuteTime": {
     "end_time": "2024-03-11T22:17:38.753535600Z",
     "start_time": "2024-03-11T22:17:38.503204900Z"
    },
    "collapsed": false
   },
   "outputs": [],
   "source": [
    "// 4. Calcular o preço total apenas dos produtos Sal e Sal Marinho usando -> reduce. Outro exemplo.\n",
    "        val custoSalMarinho = produtos\n",
    "            .filter { it.nome == \"Sal\" || it.nome == \"Sal Marinho\" }\n",
    "            .map { it.preco }\n",
    "            .reduce { acc, preco -> acc + preco }\n",
    "            \n",
    "// 4 Custo total do Sal e Sal Marinho: R$ 18.0"
   ]
  },
  {
   "cell_type": "markdown",
   "metadata": {
    "collapsed": false
   },
   "source": []
  },
  {
   "cell_type": "markdown",
   "metadata": {
    "collapsed": false
   },
   "source": [
    "***\n",
    "## Coleção Mutável\n",
    "Uma coleção **mutável**, em termos simples, é uma estrutura de dados que pode ser alterada após sua criação. "
   ]
  },
  {
   "cell_type": "markdown",
   "metadata": {
    "collapsed": false
   },
   "source": [
    "### Modificando uma coleção mutável\n",
    "Este código inicializa uma **coleção mutável** de cadeiras do curso P5 e modifica a coleção adicionando a cadeira \"CE\" e removendo a cadeira \"PE\". Em seguida, imprime a coleção original e a coleção modificada, mostrando as alterações feitas."
   ]
  },
  {
   "cell_type": "code",
   "execution_count": null,
   "metadata": {
    "ExecuteTime": {
     "end_time": "2024-03-11T22:17:38.972949900Z",
     "start_time": "2024-03-11T22:17:38.741568600Z"
    },
    "collapsed": false
   },
   "outputs": [],
   "source": [
    "\n",
    "    var mutableCollection: MutableCollection<String> = mutableListOf(\"PDM\", \"PWEB2\", \"GPS\", \"PPS\", \"PE\")\n",
    "    \n",
    "    println(\"Cadeiras de P5: $mutableCollection\")\n",
    "    \n",
    "    mutableCollection.add(\"CE\")\n",
    "    mutableCollection.remove(\"PE\")\n",
    "    \n",
    "    println(\"Cadeira modificada: $mutableCollection\")\n",
    "\n"
   ]
  },
  {
   "cell_type": "markdown",
   "metadata": {
    "collapsed": false
   },
   "source": [
    "### Modificando uma lista mutável\n",
    "Este código inicializa uma **lista mutável** de frutas e modifica o segundo elemento da lista de \"banana\" para \"kiwi\". Em seguida, imprime a lista original e a lista modificada, mostrando a alteração feita."
   ]
  },
  {
   "cell_type": "code",
   "execution_count": null,
   "metadata": {
    "ExecuteTime": {
     "end_time": "2024-03-11T22:17:38.987909700Z",
     "start_time": "2024-03-11T22:17:38.903136900Z"
    },
    "collapsed": false
   },
   "outputs": [],
   "source": [
    "\n",
    "    val mutableList = mutableListOf(\"maça\", \"banana\", \"laranja\")\n",
    "    \n",
    "    println(\"Lista original: $mutableList\")\n",
    "    \n",
    "    mutableList[1] = \"kiwi\" // mudar o segundo elemento da lista\n",
    "    \n",
    "    println(\"Lista foi mudada: $mutableList\")\n"
   ]
  },
  {
   "cell_type": "markdown",
   "metadata": {
    "collapsed": false
   },
   "source": [
    "### Modificando um mapa mutável\n",
    "Este código inicializa um **mapa mutável** com pares chave-valor e, em seguida, transforma todos os valores do mapa em seus quadrados. O resultado é atribuído novamente ao mapa mutável, que é então impresso na tela, mostrando os valores originais substituídos por seus quadrados."
   ]
  },
  {
   "cell_type": "code",
   "execution_count": null,
   "metadata": {
    "ExecuteTime": {
     "end_time": "2024-03-11T22:17:39.169424400Z",
     "start_time": "2024-03-11T22:17:38.970955600Z"
    },
    "collapsed": false
   },
   "outputs": [],
   "source": [
    "\n",
    "    var mutableMap = mutableMapOf(\"1\" to 1, \"2\" to 2, \"3\" to 3, \"4\" to 4)\n",
    "    \n",
    "    println(\"listas de numero: $mutableMap\")\n",
    "    \n",
    "    // Transformando todos os valores do mapa em seus quadrados\n",
    "    mutableMap = mutableMap.mapValues { (_, valor) -> valor * valor }.toMutableMap()\n",
    "    \n",
    "    println(\"quadrado foi adicionado!: $mutableMap\")\n"
   ]
  },
  {
   "cell_type": "markdown",
   "metadata": {
    "collapsed": false
   },
   "source": []
  },
  {
   "cell_type": "markdown",
   "metadata": {
    "collapsed": false
   },
   "source": [
    "## Coleção Imutável\n",
    "Uma coleção **mutável**, em termos simples, é uma estrutura de dados que nao pode ser alterada após sua criação. \n",
    "\n"
   ]
  },
  {
   "cell_type": "markdown",
   "metadata": {
    "collapsed": false
   },
   "source": [
    "### Removendo um elemento de um mapa imutável\n",
    "Este código cria um novo **mapa imutável** a partir de um mapa imutável original, removendo a entrada associada à chave \"Maçã\". Em seguida, itera sobre o novo mapa imutável resultante da remoção e imprime cada par chave-valor na tela."
   ]
  },
  {
   "cell_type": "code",
   "execution_count": null,
   "metadata": {
    "ExecuteTime": {
     "end_time": "2024-03-11T22:17:39.360912400Z",
     "start_time": "2024-03-11T22:17:39.159450900Z"
    },
    "collapsed": false
   },
   "outputs": [],
   "source": [
    "// Criando um mapa imutável\n",
    "    val mapaImutavel = mapOf(\n",
    "        \"Maçã\" to \"Vermelha\",\n",
    "        \"Banana\" to \"Amarela\",\n",
    "        \"Abacaxi\" to \"Amarelo\"\n",
    "    )\n",
    "\n",
    "    val novoMapaImutavel = mapaImutavel - \"Maçã\"\n",
    "    for ((fruta, cor) in novoMapaImutavel) {\n",
    "        println(\"Fruta: $fruta, Cor: $cor\")\n",
    "    }\n"
   ]
  },
  {
   "cell_type": "markdown",
   "metadata": {
    "collapsed": false
   },
   "source": [
    "### Criando um conjunto imutável e iterando sobre os elementos\n",
    "Este código cria um **conjunto imutável** contendo algumas frutas. Em seguida, tenta adicionar e remover elementos do conjunto, o que resultará em erros, pois conjuntos imutáveis não permitem operações de adição ou remoção. Por fim, o código itera sobre os elementos do conjunto e os imprime na tela."
   ]
  },
  {
   "cell_type": "code",
   "execution_count": null,
   "metadata": {
    "ExecuteTime": {
     "end_time": "2024-03-11T22:17:39.484582600Z",
     "start_time": "2024-03-11T22:17:39.406790800Z"
    },
    "collapsed": false
   },
   "outputs": [],
   "source": [
    "// Criando um conjunto imutável\n",
    "    val conjuntoImutavel = setOf(\"Maçã\", \"Banana\", \"Laranja\")\n",
    "\n",
    "    // Tentativa de adicionar um elemento (não é possível)\n",
    "    // conjuntoImutavel.add(\"Pêra\") // Isso resultará em erro\n",
    "\n",
    "    // Tentativa de remover um elemento (não é possível)\n",
    "    // conjuntoImutavel.remove(\"Banana\") // Isso resultará em erro\n",
    "\n",
    "    // Iterando sobre os elementos\n",
    "    for (fruta in conjuntoImutavel) {\n",
    "        println(fruta)\n",
    "    }\n"
   ]
  },
  {
   "cell_type": "markdown",
   "metadata": {
    "collapsed": false
   },
   "source": [
    "### Criando uma classe de dados Pessoa e uma lista imutável de pessoas\n",
    "Este código define uma **classe de dados** Pessoa com propriedades nome e cpf, e em seguida cria uma lista imutável de pessoas usando essa classe de dados. Depois, itera sobre as pessoas na lista e imprime seus dados na tela. Por fim, tenta modificar o CPF de uma pessoa na lista, o que resultará em um erro, pois listas imutáveis não permitem modificações em seus elementos."
   ]
  },
  {
   "cell_type": "code",
   "execution_count": null,
   "metadata": {
    "ExecuteTime": {
     "end_time": "2024-03-11T22:17:39.622214800Z",
     "start_time": "2024-03-11T22:17:39.480593800Z"
    },
    "collapsed": false
   },
   "outputs": [],
   "source": [
    "data class Pessoa(val nome: String, val cpf: String)\n",
    "    // Criando uma lista imutável de pessoas\n",
    "    val listaDePessoas = listOf(\n",
    "        Pessoa(\"João\", \"123.456.789-00\"),\n",
    "        Pessoa(\"Maria\", \"987.654.321-00\"),\n",
    "        Pessoa(\"Pedro\", \"111.222.333-44\")\n",
    "    )\n",
    "\n",
    "    // Iterando sobre as pessoas na lista e imprimindo seus dados\n",
    "    for (pessoa in listaDePessoas) {\n",
    "        println(\"Nome: ${pessoa.nome}, CPF: ${pessoa.cpf}\")\n",
    "    }\n",
    "\n",
    "    // Tentativa de modificar o CPF de uma pessoa (não é possível em uma lista imutável)\n",
    "    // listaDePessoas[0].cpf = \"000.111.222-33\" // Isso resultará em um erro\n",
    "\n"
   ]
  },
  {
   "cell_type": "markdown",
   "metadata": {
    "collapsed": false
   },
   "source": [
    "### Criando uma classe de dados Item e uma lista imutável de itens\n",
    "Este código define uma **classe de dados** Item com propriedades id e nome, e em seguida cria uma lista imutável de itens usando essa classe de dados. Depois, itera sobre os itens na lista e imprime seus dados na tela. Por fim, tenta modificar um dos itens na lista, o que resultará em um erro, pois listas imutáveis não permitem modificações em seus elementos."
   ]
  },
  {
   "cell_type": "code",
   "execution_count": null,
   "metadata": {
    "ExecuteTime": {
     "end_time": "2024-03-11T22:17:39.768856Z",
     "start_time": "2024-03-11T22:17:39.621217400Z"
    },
    "collapsed": false
   },
   "outputs": [],
   "source": [
    "data class Item(val id: Int, val nome: String)\n",
    "    // Criando uma lista imutável de objetos do tipo Item\n",
    "    val listaDeItens = listOf(\n",
    "        Item(1, \"Item A\"),\n",
    "        Item(2, \"Item B\"),\n",
    "        Item(3, \"Item C\")\n",
    "    )\n",
    "\n",
    "    // Iterando sobre os itens na lista e imprimindo seus dados\n",
    "    for (item in listaDeItens) {\n",
    "        println(\"ID: ${item.id}, Nome: ${item.nome}\")\n",
    "    }\n",
    "\n",
    "    // Tentativa de modificar um dos itens na lista (não é possível em uma lista imutável)\n",
    "    // listaDeItens[0] = Item(1, \"Novo Item\") // Isso resultará em um erro\n"
   ]
  },
  {
   "cell_type": "markdown",
   "metadata": {
    "collapsed": false
   },
   "source": [
    "## PRÁTICA SOBRE COLEÇÕES\n",
    "**Atividade Prática: Sistema Bancário em Kotlin**\n",
    "\n",
    "**Introdução:**\n",
    "Neste exercício prático, você irá implementar um sistema bancário em Kotlin utilizando diferentes tipos de coleções, como List, Set e MutableList, além de explorar operações comuns em coleções, programação funcional e coleções mutáveis e imutáveis.\n",
    "\n",
    "**Instruções:**\n",
    "Classe Conta Bancária: Implemente a classe ContaBancaria com os seguintes atributos: numeroConta, nomeTitular e saldo. Utilize a função data class para criar a classe.\n",
    "\n",
    "**Gerenciador de Contas Bancárias: Implemente a classe GerenciadorContas com os seguintes métodos:**\n",
    "\n",
    "1.adicionarConta: Adiciona uma nova conta ao sistema.\n",
    "2.removerConta: Remove uma conta pelo número da conta.\n",
    "3.listarContas: Lista todas as contas bancárias cadastradas.\n",
    "4.contaExiste: Verifica se uma conta existe pelo número da conta.\n",
    "5.Filtrar Contas com Saldo Positivo: Adicione a função filtrarContasComSaldoPositivo à classe GerenciadorContas para filtrar e retornar todas as contas com saldo positivo.\n",
    "6.Verificar Existência de Conta Negativa: Adicione a função algumaContaComSaldoNegativo à classe GerenciadorContas para verificar se alguma conta possui saldo negativo.\n",
    "7.Calcular Saldo Total: Adicione a função calcularSaldoTotal à classe GerenciadorContas para calcular e retornar o saldo total de todas as contas.\n",
    "\n",
    "**Observações:**\n",
    "Utilize os conceitos de coleções e operações comuns em Kotlin, como filter, any e reduce, para implementar as funções necessárias.\n",
    "Explore tanto as coleções mutáveis (MutableList) quanto as imutáveis (List) para armazenar as contas bancárias e observe as diferenças.\n",
    "\n",
    "\n",
    "\n",
    "\n"
   ]
  }
 ],
 "metadata": {
  "kernelspec": {
   "display_name": "Kotlin",
   "language": "kotlin",
   "name": "kotlin"
  },
  "ktnbPluginMetadata": {
   "projectDependencies": [
    "introducao-kotlin"
   ]
  },
  "language_info": {
   "codemirror_mode": "text/x-kotlin",
   "file_extension": ".kt",
   "mimetype": "text/x-kotlin",
   "name": "kotlin",
   "nbconvert_exporter": "",
   "pygments_lexer": "kotlin",
   "version": "1.9.0"
  }
 },
 "nbformat": 4,
 "nbformat_minor": 0
}
